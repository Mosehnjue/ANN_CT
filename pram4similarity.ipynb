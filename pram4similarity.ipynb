{
 "cells": [
  {
   "cell_type": "code",
   "execution_count": 1,
   "id": "39e61c8a",
   "metadata": {},
   "outputs": [],
   "source": [
    "\n",
    "import numpy as np\n",
    "import matplotlib.pyplot as plt\n",
    "import math\n",
    "import pandas as pd"
   ]
  },
  {
   "cell_type": "markdown",
   "id": "a3ee2eae",
   "metadata": {},
   "source": [
    "### loading datasets\n",
    "1. the parameters are obtained through least squares:\n",
    "    e = tx + aX-bY\n",
    "    n = ty + bX+aY"
   ]
  },
  {
   "cell_type": "code",
   "execution_count": 2,
   "id": "09c8b34a",
   "metadata": {},
   "outputs": [
    {
     "name": "stdout",
     "output_type": "stream",
     "text": [
      "(64, 4)\n",
      "(64, 1)\n",
      "(16, 2)\n",
      "(16, 2)\n",
      "(17, 2)\n",
      "(17, 2)\n"
     ]
    }
   ],
   "source": [
    "inputs = pd.read_csv('data/bursa1.csv',delimiter=',', header=None) #loading inputs from a different file \n",
    "print (inputs.shape)\n",
    "targets = pd.read_csv('data/UTM1.csv',delimiter=',', header=None) # loading targets\n",
    "print(targets.shape)\n",
    "trains = pd.read_csv('data/Cass_f1.csv',delimiter=',', header=None) #loading inputs from a different file \n",
    "print (trains.shape)\n",
    "trains_labels = pd.read_csv('data/utm_test1.csv',delimiter=',', header=None) # loading targets\n",
    "print (trains_labels.shape)\n",
    "\n",
    "test = pd.read_csv('data/Xtest.csv',delimiter=',', header=None) # loading targets\n",
    "print(test.shape)\n",
    "\n",
    "\n",
    "labels = pd.read_csv('data/yTest.csv',delimiter=',', header=None) # loading targets\n",
    "print(labels.shape)"
   ]
  },
  {
   "cell_type": "code",
   "execution_count": 3,
   "id": "f63d0ea7",
   "metadata": {},
   "outputs": [
    {
     "data": {
      "text/html": [
       "<div>\n",
       "<style scoped>\n",
       "    .dataframe tbody tr th:only-of-type {\n",
       "        vertical-align: middle;\n",
       "    }\n",
       "\n",
       "    .dataframe tbody tr th {\n",
       "        vertical-align: top;\n",
       "    }\n",
       "\n",
       "    .dataframe thead th {\n",
       "        text-align: right;\n",
       "    }\n",
       "</style>\n",
       "<table border=\"1\" class=\"dataframe\">\n",
       "  <thead>\n",
       "    <tr style=\"text-align: right;\">\n",
       "      <th></th>\n",
       "      <th>0</th>\n",
       "      <th>1</th>\n",
       "      <th>2</th>\n",
       "      <th>3</th>\n",
       "    </tr>\n",
       "  </thead>\n",
       "  <tbody>\n",
       "    <tr>\n",
       "      <th>0</th>\n",
       "      <td>-12402.00720</td>\n",
       "      <td>56075.00088</td>\n",
       "      <td>1</td>\n",
       "      <td>0</td>\n",
       "    </tr>\n",
       "    <tr>\n",
       "      <th>1</th>\n",
       "      <td>-56075.00088</td>\n",
       "      <td>-12402.00720</td>\n",
       "      <td>0</td>\n",
       "      <td>1</td>\n",
       "    </tr>\n",
       "    <tr>\n",
       "      <th>2</th>\n",
       "      <td>-12235.34256</td>\n",
       "      <td>63650.40864</td>\n",
       "      <td>1</td>\n",
       "      <td>0</td>\n",
       "    </tr>\n",
       "    <tr>\n",
       "      <th>3</th>\n",
       "      <td>-63650.40864</td>\n",
       "      <td>-12235.34256</td>\n",
       "      <td>0</td>\n",
       "      <td>1</td>\n",
       "    </tr>\n",
       "    <tr>\n",
       "      <th>4</th>\n",
       "      <td>-12378.14136</td>\n",
       "      <td>58437.99336</td>\n",
       "      <td>1</td>\n",
       "      <td>0</td>\n",
       "    </tr>\n",
       "    <tr>\n",
       "      <th>...</th>\n",
       "      <td>...</td>\n",
       "      <td>...</td>\n",
       "      <td>...</td>\n",
       "      <td>...</td>\n",
       "    </tr>\n",
       "    <tr>\n",
       "      <th>59</th>\n",
       "      <td>-55883.12928</td>\n",
       "      <td>-14778.01464</td>\n",
       "      <td>0</td>\n",
       "      <td>1</td>\n",
       "    </tr>\n",
       "    <tr>\n",
       "      <th>60</th>\n",
       "      <td>-10426.38504</td>\n",
       "      <td>59028.81768</td>\n",
       "      <td>1</td>\n",
       "      <td>0</td>\n",
       "    </tr>\n",
       "    <tr>\n",
       "      <th>61</th>\n",
       "      <td>-59028.81768</td>\n",
       "      <td>-10426.38504</td>\n",
       "      <td>0</td>\n",
       "      <td>1</td>\n",
       "    </tr>\n",
       "    <tr>\n",
       "      <th>62</th>\n",
       "      <td>-14167.16496</td>\n",
       "      <td>65094.58152</td>\n",
       "      <td>1</td>\n",
       "      <td>0</td>\n",
       "    </tr>\n",
       "    <tr>\n",
       "      <th>63</th>\n",
       "      <td>-65094.58152</td>\n",
       "      <td>-14167.16496</td>\n",
       "      <td>0</td>\n",
       "      <td>1</td>\n",
       "    </tr>\n",
       "  </tbody>\n",
       "</table>\n",
       "<p>64 rows × 4 columns</p>\n",
       "</div>"
      ],
      "text/plain": [
       "              0            1  2  3\n",
       "0  -12402.00720  56075.00088  1  0\n",
       "1  -56075.00088 -12402.00720  0  1\n",
       "2  -12235.34256  63650.40864  1  0\n",
       "3  -63650.40864 -12235.34256  0  1\n",
       "4  -12378.14136  58437.99336  1  0\n",
       "..          ...          ... .. ..\n",
       "59 -55883.12928 -14778.01464  0  1\n",
       "60 -10426.38504  59028.81768  1  0\n",
       "61 -59028.81768 -10426.38504  0  1\n",
       "62 -14167.16496  65094.58152  1  0\n",
       "63 -65094.58152 -14167.16496  0  1\n",
       "\n",
       "[64 rows x 4 columns]"
      ]
     },
     "execution_count": 3,
     "metadata": {},
     "output_type": "execute_result"
    }
   ],
   "source": [
    "inputs"
   ]
  },
  {
   "cell_type": "raw",
   "id": "9d28947c",
   "metadata": {},
   "source": [
    "converting to arrays"
   ]
  },
  {
   "cell_type": "markdown",
   "id": "a47e4eab",
   "metadata": {},
   "source": [
    "  \n"
   ]
  },
  {
   "cell_type": "code",
   "execution_count": 3,
   "id": "a7522cbc",
   "metadata": {},
   "outputs": [
    {
     "name": "stdout",
     "output_type": "stream",
     "text": [
      "<class 'numpy.ndarray'>\n",
      "<class 'pandas.core.frame.DataFrame'>\n",
      "<class 'numpy.ndarray'>\n",
      "(64, 1)\n"
     ]
    }
   ],
   "source": [
    "\n",
    "bursa= inputs.to_numpy()\n",
    "EnUTM = targets.to_numpy()\n",
    "print (type(bursa))\n",
    "print (type(inputs))\n",
    "print (type(EnUTM))\n",
    "print (EnUTM.shape)"
   ]
  },
  {
   "cell_type": "code",
   "execution_count": 4,
   "id": "cc9f7c61",
   "metadata": {},
   "outputs": [
    {
     "data": {
      "text/plain": [
       "(4, 1)"
      ]
     },
     "execution_count": 4,
     "metadata": {},
     "output_type": "execute_result"
    }
   ],
   "source": [
    "A=bursa\n",
    "At=A.T\n",
    "At.shape\n",
    "ATA = np.dot(At,A)\n",
    "ATA\n",
    "L = EnUTM\n",
    "L.shape\n",
    "ATL= np.dot(At,L)\n",
    "ATL.shape"
   ]
  },
  {
   "cell_type": "code",
   "execution_count": 5,
   "id": "bfee3ca3",
   "metadata": {},
   "outputs": [
    {
     "data": {
      "text/plain": [
       "array([[1.00025386e+00],\n",
       "       [1.80432323e-04],\n",
       "       [2.77492392e+05],\n",
       "       [1.00001873e+07]])"
      ]
     },
     "execution_count": 5,
     "metadata": {},
     "output_type": "execute_result"
    }
   ],
   "source": [
    "from numpy.linalg import inv\n",
    "m_inv=inv(ATA)*-1\n",
    "m_inv\n",
    "x1= -(np.dot(m_inv,ATL))\n",
    "x1"
   ]
  },
  {
   "cell_type": "code",
   "execution_count": 6,
   "id": "35dd8392",
   "metadata": {},
   "outputs": [],
   "source": [
    "a =x1[0]\n",
    "a\n",
    "b = x1[1]\n",
    "b\n",
    "c=x1[2]\n",
    "d = x1[3]\n"
   ]
  },
  {
   "cell_type": "raw",
   "id": "b71f13d0",
   "metadata": {},
   "source": [
    "X_1 = a*X - b*Y + c\n",
    "Y_1 = b*X + a*Y + d\n"
   ]
  },
  {
   "cell_type": "code",
   "execution_count": 7,
   "id": "f75c4d02",
   "metadata": {},
   "outputs": [],
   "source": [
    "t = trains.to_numpy()\n",
    "t1 = t[:,0]*a\n",
    "\n",
    "t2 = t[:,1]*b\n",
    "\n",
    "t3 =  t[:,0]*b\n",
    "\n",
    "t4 =  t[:,1]*a"
   ]
  },
  {
   "cell_type": "code",
   "execution_count": 8,
   "id": "a1330a89",
   "metadata": {},
   "outputs": [
    {
     "name": "stdout",
     "output_type": "stream",
     "text": [
      "[262058.36287359 266951.82689545 263425.60794996 261269.93451256\n",
      " 266421.80675213 267141.15427161 267293.43874466 265739.35058532\n",
      " 265088.31011368 265445.32199025 263168.06739581 267272.86036401\n",
      " 262157.24567385 261519.3563422  262644.33761799 263424.94570212]\n",
      "[9940059.71023834 9936008.62005988 9941625.44127057 9934567.87264495\n",
      " 9933929.50458342 9943791.4421609  9943294.27559052 9941300.34105396\n",
      " 9934062.16009098 9933383.56743074 9939149.15020005 9934500.90685945\n",
      " 9939322.32114288 9937093.97921577 9944958.82967419 9944789.67207315]\n"
     ]
    }
   ],
   "source": [
    "east = c+ t1-t2\n",
    "\n",
    "print (east)\n",
    "north= d +t3+t4\n",
    "\n",
    "print (north)"
   ]
  },
  {
   "cell_type": "code",
   "execution_count": 9,
   "id": "b82d5eb3",
   "metadata": {},
   "outputs": [
    {
     "data": {
      "text/plain": [
       "(16, 1)"
      ]
     },
     "execution_count": 9,
     "metadata": {},
     "output_type": "execute_result"
    }
   ],
   "source": [
    "ene1 = pd.DataFrame(east)\n",
    "ene1.shape\n",
    "#type(ene1)\n",
    "ene2 = pd.DataFrame(north)\n",
    "ene2.shape"
   ]
  },
  {
   "cell_type": "code",
   "execution_count": null,
   "id": "e509be87",
   "metadata": {},
   "outputs": [],
   "source": []
  },
  {
   "cell_type": "code",
   "execution_count": 10,
   "id": "cbc5fb9f",
   "metadata": {},
   "outputs": [],
   "source": [
    "m =ene1.join(ene2, on= None, how ='right', lsuffix = '_left', rsuffix = '_right')\n",
    "m.to_csv('y.csv', header=False, index=False)"
   ]
  },
  {
   "cell_type": "code",
   "execution_count": 11,
   "id": "56f0d3c5",
   "metadata": {},
   "outputs": [
    {
     "name": "stdout",
     "output_type": "stream",
     "text": [
      "(16, 2)\n"
     ]
    }
   ],
   "source": [
    "ene = pd.read_csv('y.csv',delimiter=',', header=None, ) # loading targets\n",
    "print(ene.shape)"
   ]
  },
  {
   "cell_type": "code",
   "execution_count": 12,
   "id": "cbbc575b",
   "metadata": {},
   "outputs": [],
   "source": [
    "enen =ene.to_numpy()"
   ]
  },
  {
   "cell_type": "code",
   "execution_count": 13,
   "id": "c65e098d",
   "metadata": {},
   "outputs": [
    {
     "data": {
      "text/html": [
       "<div>\n",
       "<style scoped>\n",
       "    .dataframe tbody tr th:only-of-type {\n",
       "        vertical-align: middle;\n",
       "    }\n",
       "\n",
       "    .dataframe tbody tr th {\n",
       "        vertical-align: top;\n",
       "    }\n",
       "\n",
       "    .dataframe thead th {\n",
       "        text-align: right;\n",
       "    }\n",
       "</style>\n",
       "<table border=\"1\" class=\"dataframe\">\n",
       "  <thead>\n",
       "    <tr style=\"text-align: right;\">\n",
       "      <th></th>\n",
       "      <th>0</th>\n",
       "      <th>1</th>\n",
       "    </tr>\n",
       "  </thead>\n",
       "  <tbody>\n",
       "    <tr>\n",
       "      <th>0</th>\n",
       "      <td>-0.062874</td>\n",
       "      <td>-0.410238</td>\n",
       "    </tr>\n",
       "    <tr>\n",
       "      <th>1</th>\n",
       "      <td>0.673105</td>\n",
       "      <td>0.479940</td>\n",
       "    </tr>\n",
       "    <tr>\n",
       "      <th>2</th>\n",
       "      <td>-0.307950</td>\n",
       "      <td>-0.141271</td>\n",
       "    </tr>\n",
       "    <tr>\n",
       "      <th>3</th>\n",
       "      <td>0.765487</td>\n",
       "      <td>-0.572645</td>\n",
       "    </tr>\n",
       "    <tr>\n",
       "      <th>4</th>\n",
       "      <td>0.993248</td>\n",
       "      <td>0.395417</td>\n",
       "    </tr>\n",
       "    <tr>\n",
       "      <th>5</th>\n",
       "      <td>-0.454272</td>\n",
       "      <td>0.357839</td>\n",
       "    </tr>\n",
       "    <tr>\n",
       "      <th>6</th>\n",
       "      <td>-0.438745</td>\n",
       "      <td>0.324409</td>\n",
       "    </tr>\n",
       "    <tr>\n",
       "      <th>7</th>\n",
       "      <td>-0.150585</td>\n",
       "      <td>0.158946</td>\n",
       "    </tr>\n",
       "    <tr>\n",
       "      <th>8</th>\n",
       "      <td>0.989886</td>\n",
       "      <td>0.139909</td>\n",
       "    </tr>\n",
       "    <tr>\n",
       "      <th>9</th>\n",
       "      <td>1.078010</td>\n",
       "      <td>0.232569</td>\n",
       "    </tr>\n",
       "    <tr>\n",
       "      <th>10</th>\n",
       "      <td>0.132604</td>\n",
       "      <td>-0.150200</td>\n",
       "    </tr>\n",
       "    <tr>\n",
       "      <th>11</th>\n",
       "      <td>0.939636</td>\n",
       "      <td>0.493141</td>\n",
       "    </tr>\n",
       "    <tr>\n",
       "      <th>12</th>\n",
       "      <td>0.054326</td>\n",
       "      <td>-0.321143</td>\n",
       "    </tr>\n",
       "    <tr>\n",
       "      <th>13</th>\n",
       "      <td>0.343658</td>\n",
       "      <td>-0.479216</td>\n",
       "    </tr>\n",
       "    <tr>\n",
       "      <th>14</th>\n",
       "      <td>-0.737618</td>\n",
       "      <td>-0.229674</td>\n",
       "    </tr>\n",
       "    <tr>\n",
       "      <th>15</th>\n",
       "      <td>-0.645702</td>\n",
       "      <td>-0.172073</td>\n",
       "    </tr>\n",
       "  </tbody>\n",
       "</table>\n",
       "</div>"
      ],
      "text/plain": [
       "           0         1\n",
       "0  -0.062874 -0.410238\n",
       "1   0.673105  0.479940\n",
       "2  -0.307950 -0.141271\n",
       "3   0.765487 -0.572645\n",
       "4   0.993248  0.395417\n",
       "5  -0.454272  0.357839\n",
       "6  -0.438745  0.324409\n",
       "7  -0.150585  0.158946\n",
       "8   0.989886  0.139909\n",
       "9   1.078010  0.232569\n",
       "10  0.132604 -0.150200\n",
       "11  0.939636  0.493141\n",
       "12  0.054326 -0.321143\n",
       "13  0.343658 -0.479216\n",
       "14 -0.737618 -0.229674\n",
       "15 -0.645702 -0.172073"
      ]
     },
     "execution_count": 13,
     "metadata": {},
     "output_type": "execute_result"
    }
   ],
   "source": [
    "type(enen)\n",
    "error = trains_labels - enen\n",
    "error"
   ]
  },
  {
   "cell_type": "code",
   "execution_count": null,
   "id": "156ee362",
   "metadata": {},
   "outputs": [],
   "source": []
  },
  {
   "cell_type": "code",
   "execution_count": 14,
   "id": "284c3d4b",
   "metadata": {},
   "outputs": [],
   "source": [
    "df = pd.DataFrame(error)"
   ]
  },
  {
   "cell_type": "code",
   "execution_count": 15,
   "id": "eb3bb9f0",
   "metadata": {},
   "outputs": [],
   "source": [
    "df.to_csv('yy.csv', header=False, index=False)"
   ]
  },
  {
   "cell_type": "code",
   "execution_count": 16,
   "id": "0f513e84",
   "metadata": {},
   "outputs": [
    {
     "data": {
      "text/plain": [
       "0.2683257386338679"
      ]
     },
     "execution_count": 16,
     "metadata": {},
     "output_type": "execute_result"
    }
   ],
   "source": [
    "import math\n",
    "from sklearn.metrics import mean_squared_error\n",
    "mse_true  = mean_squared_error(trains_labels, enen)\n",
    "mse_true"
   ]
  },
  {
   "cell_type": "code",
   "execution_count": 17,
   "id": "35d53a93",
   "metadata": {},
   "outputs": [
    {
     "data": {
      "text/plain": [
       "0.5180016782153006"
      ]
     },
     "execution_count": 17,
     "metadata": {},
     "output_type": "execute_result"
    }
   ],
   "source": [
    "\n",
    "rmse = math.sqrt(mse_true)\n",
    "rmse"
   ]
  },
  {
   "cell_type": "markdown",
   "id": "e272da09",
   "metadata": {},
   "source": [
    "# fold 2"
   ]
  },
  {
   "cell_type": "code",
   "execution_count": 18,
   "id": "b3cc71cc",
   "metadata": {},
   "outputs": [
    {
     "name": "stdout",
     "output_type": "stream",
     "text": [
      "(64, 4)\n",
      "(64, 1)\n",
      "(16, 2)\n",
      "(16, 2)\n"
     ]
    }
   ],
   "source": [
    "inputs = pd.read_csv('data/bursa2.csv',delimiter=',', header=None) #loading inputs from a different file \n",
    "print (inputs.shape)\n",
    "targets = pd.read_csv('data/UTM2.csv',delimiter=',', header=None) # loading targets\n",
    "print(targets.shape)\n",
    "trains = pd.read_csv('data/Cass_f2.csv',delimiter=',', header=None) #loading inputs from a different file \n",
    "print (trains.shape)\n",
    "trains_labels = pd.read_csv('data/aff_test2.csv',delimiter=',', header=None) # loading targets\n",
    "print (trains_labels.shape)"
   ]
  },
  {
   "cell_type": "code",
   "execution_count": 19,
   "id": "ded2472d",
   "metadata": {},
   "outputs": [
    {
     "name": "stdout",
     "output_type": "stream",
     "text": [
      "<class 'numpy.ndarray'>\n",
      "<class 'pandas.core.frame.DataFrame'>\n",
      "<class 'numpy.ndarray'>\n",
      "(64, 1)\n"
     ]
    }
   ],
   "source": [
    "\n",
    "bursa= inputs.to_numpy()\n",
    "EnUTM = targets.to_numpy()\n",
    "print (type(bursa))\n",
    "print (type(inputs))\n",
    "print (type(EnUTM))\n",
    "print (EnUTM.shape)"
   ]
  },
  {
   "cell_type": "code",
   "execution_count": 20,
   "id": "3c3e1f74",
   "metadata": {},
   "outputs": [
    {
     "data": {
      "text/plain": [
       "(4, 1)"
      ]
     },
     "execution_count": 20,
     "metadata": {},
     "output_type": "execute_result"
    }
   ],
   "source": [
    "A=bursa\n",
    "At=A.T\n",
    "At.shape\n",
    "ATA = np.dot(At,A)\n",
    "ATA\n",
    "L = EnUTM\n",
    "L.shape\n",
    "ATL= np.dot(At,L)\n",
    "ATL.shape"
   ]
  },
  {
   "cell_type": "code",
   "execution_count": 21,
   "id": "cef5c1b2",
   "metadata": {},
   "outputs": [
    {
     "data": {
      "text/plain": [
       "array([[1.00025397e+00],\n",
       "       [2.26383810e-04],\n",
       "       [2.77489725e+05],\n",
       "       [1.00001879e+07]])"
      ]
     },
     "execution_count": 21,
     "metadata": {},
     "output_type": "execute_result"
    }
   ],
   "source": [
    "from numpy.linalg import inv\n",
    "m_inv=inv(ATA)*-1\n",
    "m_inv\n",
    "x2= -(np.dot(m_inv,ATL))\n",
    "x2"
   ]
  },
  {
   "cell_type": "code",
   "execution_count": 22,
   "id": "d6df05a8",
   "metadata": {},
   "outputs": [],
   "source": [
    "a =x2[0]\n",
    "a\n",
    "b = x2[1]\n",
    "b\n",
    "c=x2[2]\n",
    "d = x2[3]"
   ]
  },
  {
   "cell_type": "code",
   "execution_count": null,
   "id": "28891323",
   "metadata": {},
   "outputs": [],
   "source": []
  },
  {
   "cell_type": "code",
   "execution_count": 23,
   "id": "3309bb59",
   "metadata": {},
   "outputs": [],
   "source": [
    "t = trains.to_numpy()\n",
    "t1 = t[:,0]*a\n",
    "\n",
    "t2 = t[:,1]*b\n",
    "\n",
    "t3 =  t[:,0]*b\n",
    "\n",
    "t4 =  t[:,1]*a"
   ]
  },
  {
   "cell_type": "code",
   "execution_count": 24,
   "id": "242b8f7c",
   "metadata": {},
   "outputs": [
    {
     "name": "stdout",
     "output_type": "stream",
     "text": [
      "[265097.26270365 265265.68462061 265121.66954803 267215.19438915\n",
      " 262776.4572494  263194.35798451 265499.76897455 261817.74727445\n",
      " 263194.1823709  264982.36507306 265569.05795524 263251.43316888\n",
      " 265435.632474   263531.43464073 264017.09160465 262166.39295015]\n",
      "[9944095.84840657 9936518.55447491 9941732.26120784 9942304.04483376\n",
      " 9942960.90473766 9940512.98603807 9944468.62166827 9938077.98433674\n",
      " 9940076.55396488 9944587.52871274 9938718.89302251 9942928.29888955\n",
      " 9935535.05836654 9936992.15490063 9936509.76580528 9941229.91654861]\n"
     ]
    }
   ],
   "source": [
    "east = c+ t1-t2\n",
    "\n",
    "print (east)\n",
    "north= d +t3+t4\n",
    "\n",
    "print (north)"
   ]
  },
  {
   "cell_type": "code",
   "execution_count": 25,
   "id": "d3c34081",
   "metadata": {},
   "outputs": [
    {
     "data": {
      "text/plain": [
       "(16, 1)"
      ]
     },
     "execution_count": 25,
     "metadata": {},
     "output_type": "execute_result"
    }
   ],
   "source": [
    "ene1 = pd.DataFrame(east)\n",
    "ene1.shape\n",
    "#type(ene1)\n",
    "ene2 = pd.DataFrame(north)\n",
    "ene2.shape"
   ]
  },
  {
   "cell_type": "code",
   "execution_count": 26,
   "id": "b921ce60",
   "metadata": {},
   "outputs": [
    {
     "name": "stdout",
     "output_type": "stream",
     "text": [
      "(16, 2)\n"
     ]
    }
   ],
   "source": [
    "m =ene1.join(ene2, on= None, how ='right', lsuffix = '_left', rsuffix = '_right')\n",
    "m.to_csv('y.csv', header=False, index=False)\n",
    "ene = pd.read_csv('y.csv',delimiter=',', header=None, ) # loading targets\n",
    "print(ene.shape)"
   ]
  },
  {
   "cell_type": "code",
   "execution_count": 27,
   "id": "7805be8d",
   "metadata": {},
   "outputs": [
    {
     "data": {
      "text/html": [
       "<div>\n",
       "<style scoped>\n",
       "    .dataframe tbody tr th:only-of-type {\n",
       "        vertical-align: middle;\n",
       "    }\n",
       "\n",
       "    .dataframe tbody tr th {\n",
       "        vertical-align: top;\n",
       "    }\n",
       "\n",
       "    .dataframe thead th {\n",
       "        text-align: right;\n",
       "    }\n",
       "</style>\n",
       "<table border=\"1\" class=\"dataframe\">\n",
       "  <thead>\n",
       "    <tr style=\"text-align: right;\">\n",
       "      <th></th>\n",
       "      <th>0</th>\n",
       "      <th>1</th>\n",
       "    </tr>\n",
       "  </thead>\n",
       "  <tbody>\n",
       "    <tr>\n",
       "      <th>0</th>\n",
       "      <td>-0.462704</td>\n",
       "      <td>0.051593</td>\n",
       "    </tr>\n",
       "    <tr>\n",
       "      <th>1</th>\n",
       "      <td>0.315379</td>\n",
       "      <td>0.045525</td>\n",
       "    </tr>\n",
       "    <tr>\n",
       "      <th>2</th>\n",
       "      <td>-0.269548</td>\n",
       "      <td>0.038792</td>\n",
       "    </tr>\n",
       "    <tr>\n",
       "      <th>3</th>\n",
       "      <td>-0.294389</td>\n",
       "      <td>0.155166</td>\n",
       "    </tr>\n",
       "    <tr>\n",
       "      <th>4</th>\n",
       "      <td>-0.457249</td>\n",
       "      <td>-0.204738</td>\n",
       "    </tr>\n",
       "    <tr>\n",
       "      <th>5</th>\n",
       "      <td>-0.157985</td>\n",
       "      <td>-0.186038</td>\n",
       "    </tr>\n",
       "    <tr>\n",
       "      <th>6</th>\n",
       "      <td>-0.468975</td>\n",
       "      <td>-0.021668</td>\n",
       "    </tr>\n",
       "    <tr>\n",
       "      <th>7</th>\n",
       "      <td>0.052726</td>\n",
       "      <td>-0.284337</td>\n",
       "    </tr>\n",
       "    <tr>\n",
       "      <th>8</th>\n",
       "      <td>-0.182371</td>\n",
       "      <td>-0.153965</td>\n",
       "    </tr>\n",
       "    <tr>\n",
       "      <th>9</th>\n",
       "      <td>-0.565073</td>\n",
       "      <td>-0.028713</td>\n",
       "    </tr>\n",
       "    <tr>\n",
       "      <th>10</th>\n",
       "      <td>0.042045</td>\n",
       "      <td>0.106977</td>\n",
       "    </tr>\n",
       "    <tr>\n",
       "      <th>11</th>\n",
       "      <td>-0.433169</td>\n",
       "      <td>-0.098890</td>\n",
       "    </tr>\n",
       "    <tr>\n",
       "      <th>12</th>\n",
       "      <td>0.467526</td>\n",
       "      <td>0.141633</td>\n",
       "    </tr>\n",
       "    <tr>\n",
       "      <th>13</th>\n",
       "      <td>0.165359</td>\n",
       "      <td>-0.154901</td>\n",
       "    </tr>\n",
       "    <tr>\n",
       "      <th>14</th>\n",
       "      <td>0.308395</td>\n",
       "      <td>-0.065805</td>\n",
       "    </tr>\n",
       "    <tr>\n",
       "      <th>15</th>\n",
       "      <td>-0.292950</td>\n",
       "      <td>-0.216549</td>\n",
       "    </tr>\n",
       "  </tbody>\n",
       "</table>\n",
       "</div>"
      ],
      "text/plain": [
       "           0         1\n",
       "0  -0.462704  0.051593\n",
       "1   0.315379  0.045525\n",
       "2  -0.269548  0.038792\n",
       "3  -0.294389  0.155166\n",
       "4  -0.457249 -0.204738\n",
       "5  -0.157985 -0.186038\n",
       "6  -0.468975 -0.021668\n",
       "7   0.052726 -0.284337\n",
       "8  -0.182371 -0.153965\n",
       "9  -0.565073 -0.028713\n",
       "10  0.042045  0.106977\n",
       "11 -0.433169 -0.098890\n",
       "12  0.467526  0.141633\n",
       "13  0.165359 -0.154901\n",
       "14  0.308395 -0.065805\n",
       "15 -0.292950 -0.216549"
      ]
     },
     "execution_count": 27,
     "metadata": {},
     "output_type": "execute_result"
    }
   ],
   "source": [
    "enen =ene.to_numpy()\n",
    "type(enen)\n",
    "error = trains_labels - enen\n",
    "error"
   ]
  },
  {
   "cell_type": "code",
   "execution_count": 28,
   "id": "baa05acc",
   "metadata": {},
   "outputs": [],
   "source": [
    "df = pd.DataFrame(error)\n",
    "df.to_csv('yy.csv', header=False, index=False)"
   ]
  },
  {
   "cell_type": "code",
   "execution_count": 29,
   "id": "0b0e7629",
   "metadata": {},
   "outputs": [
    {
     "data": {
      "text/plain": [
       "0.06961393272665407"
      ]
     },
     "execution_count": 29,
     "metadata": {},
     "output_type": "execute_result"
    }
   ],
   "source": [
    "import math\n",
    "from sklearn.metrics import mean_squared_error\n",
    "mse_true  = mean_squared_error(trains_labels, enen)\n",
    "mse_true"
   ]
  },
  {
   "cell_type": "code",
   "execution_count": 30,
   "id": "acf61d40",
   "metadata": {},
   "outputs": [
    {
     "data": {
      "text/plain": [
       "0.2638445237761324"
      ]
     },
     "execution_count": 30,
     "metadata": {},
     "output_type": "execute_result"
    }
   ],
   "source": [
    "\n",
    "rmse = math.sqrt(mse_true)\n",
    "rmse"
   ]
  },
  {
   "cell_type": "markdown",
   "id": "8b93f0f7",
   "metadata": {},
   "source": [
    "# Fold 3"
   ]
  },
  {
   "cell_type": "code",
   "execution_count": 31,
   "id": "fe30de5a",
   "metadata": {},
   "outputs": [
    {
     "name": "stdout",
     "output_type": "stream",
     "text": [
      "(64, 4)\n",
      "(64, 1)\n",
      "(16, 2)\n",
      "(16, 2)\n"
     ]
    }
   ],
   "source": [
    "inputs = pd.read_csv('data/bursa3.csv',delimiter=',', header=None) #loading inputs from a different file \n",
    "print (inputs.shape)\n",
    "targets = pd.read_csv('data/UTM3.csv',delimiter=',', header=None) # loading targets\n",
    "print(targets.shape)\n",
    "trains = pd.read_csv('data/Cass_f3.csv',delimiter=',', header=None) #loading inputs from a different file \n",
    "print (trains.shape)\n",
    "trains_labels = pd.read_csv('data/aff_test3.csv',delimiter=',', header=None) # loading targets\n",
    "print (trains_labels.shape)"
   ]
  },
  {
   "cell_type": "code",
   "execution_count": 32,
   "id": "f9f7614c",
   "metadata": {},
   "outputs": [
    {
     "name": "stdout",
     "output_type": "stream",
     "text": [
      "<class 'numpy.ndarray'>\n",
      "<class 'pandas.core.frame.DataFrame'>\n",
      "<class 'numpy.ndarray'>\n",
      "(64, 1)\n"
     ]
    }
   ],
   "source": [
    "\n",
    "bursa= inputs.to_numpy()\n",
    "EnUTM = targets.to_numpy()\n",
    "print (type(bursa))\n",
    "print (type(inputs))\n",
    "print (type(EnUTM))\n",
    "print (EnUTM.shape)"
   ]
  },
  {
   "cell_type": "code",
   "execution_count": 33,
   "id": "b1f4ac3b",
   "metadata": {},
   "outputs": [
    {
     "data": {
      "text/plain": [
       "(4, 1)"
      ]
     },
     "execution_count": 33,
     "metadata": {},
     "output_type": "execute_result"
    }
   ],
   "source": [
    "A=bursa\n",
    "At=A.T\n",
    "At.shape\n",
    "ATA = np.dot(At,A)\n",
    "ATA\n",
    "L = EnUTM\n",
    "L.shape\n",
    "ATL= np.dot(At,L)\n",
    "ATL.shape"
   ]
  },
  {
   "cell_type": "code",
   "execution_count": 34,
   "id": "008a053d",
   "metadata": {},
   "outputs": [
    {
     "data": {
      "text/plain": [
       "array([[1.00024201e+00],\n",
       "       [3.72232730e-04],\n",
       "       [2.77480854e+05],\n",
       "       [1.00001890e+07]])"
      ]
     },
     "execution_count": 34,
     "metadata": {},
     "output_type": "execute_result"
    }
   ],
   "source": [
    "from numpy.linalg import inv\n",
    "m_inv=inv(ATA)*-1\n",
    "m_inv\n",
    "x3= -(np.dot(m_inv,ATL))\n",
    "x3"
   ]
  },
  {
   "cell_type": "code",
   "execution_count": 35,
   "id": "7744ad46",
   "metadata": {},
   "outputs": [],
   "source": [
    "a =x3[0]\n",
    "a\n",
    "b = x3[1]\n",
    "b\n",
    "c=x3[2]\n",
    "d = x3[3]"
   ]
  },
  {
   "cell_type": "code",
   "execution_count": 36,
   "id": "b3f9e9e9",
   "metadata": {},
   "outputs": [],
   "source": [
    "t = trains.to_numpy()\n",
    "t1 = t[:,0]*a\n",
    "\n",
    "t2 = t[:,1]*b\n",
    "\n",
    "t3 =  t[:,0]*b\n",
    "\n",
    "t4 =  t[:,1]*a"
   ]
  },
  {
   "cell_type": "code",
   "execution_count": 37,
   "id": "07bb5f32",
   "metadata": {},
   "outputs": [
    {
     "name": "stdout",
     "output_type": "stream",
     "text": [
      "[263547.12400742 266734.85943701 263661.58384925 265163.85208158\n",
      " 261839.93536094 263217.68349531 267171.75047735 267522.26378188\n",
      " 264894.47942673 266845.41003672 267355.47372183 265069.67919375\n",
      " 263008.28307967 262720.06398123 267073.91765575 263334.49029817]\n",
      "[9938884.23653457 9934609.72011418 9939839.87559206 9937948.78413701\n",
      " 9944501.48037955 9935836.59535631 9938195.89988549 9939015.43965876\n",
      " 9939468.14446096 9937058.41621417 9935557.43789007 9943020.99560077\n",
      " 9942917.21160778 9944286.81090394 9941141.98102875 9935073.35676074]\n"
     ]
    }
   ],
   "source": [
    "east = c+ t1-t2\n",
    "\n",
    "print (east)\n",
    "north= d +t3+t4\n",
    "\n",
    "print (north)"
   ]
  },
  {
   "cell_type": "code",
   "execution_count": 38,
   "id": "a07cb838",
   "metadata": {},
   "outputs": [
    {
     "data": {
      "text/plain": [
       "(16, 1)"
      ]
     },
     "execution_count": 38,
     "metadata": {},
     "output_type": "execute_result"
    }
   ],
   "source": [
    "ene1 = pd.DataFrame(east)\n",
    "ene1.shape\n",
    "#type(ene1)\n",
    "ene2 = pd.DataFrame(north)\n",
    "ene2.shape"
   ]
  },
  {
   "cell_type": "code",
   "execution_count": 39,
   "id": "cc617d6d",
   "metadata": {},
   "outputs": [
    {
     "name": "stdout",
     "output_type": "stream",
     "text": [
      "(16, 2)\n"
     ]
    }
   ],
   "source": [
    "m =ene1.join(ene2, on= None, how ='right', lsuffix = '_left', rsuffix = '_right')\n",
    "m.to_csv('y.csv', header=False, index=False)\n",
    "ene = pd.read_csv('y.csv',delimiter=',', header=None, ) # loading targets\n",
    "print(ene.shape)"
   ]
  },
  {
   "cell_type": "code",
   "execution_count": 40,
   "id": "0dfee96a",
   "metadata": {},
   "outputs": [
    {
     "data": {
      "text/html": [
       "<div>\n",
       "<style scoped>\n",
       "    .dataframe tbody tr th:only-of-type {\n",
       "        vertical-align: middle;\n",
       "    }\n",
       "\n",
       "    .dataframe tbody tr th {\n",
       "        vertical-align: top;\n",
       "    }\n",
       "\n",
       "    .dataframe thead th {\n",
       "        text-align: right;\n",
       "    }\n",
       "</style>\n",
       "<table border=\"1\" class=\"dataframe\">\n",
       "  <thead>\n",
       "    <tr style=\"text-align: right;\">\n",
       "      <th></th>\n",
       "      <th>0</th>\n",
       "      <th>1</th>\n",
       "    </tr>\n",
       "  </thead>\n",
       "  <tbody>\n",
       "    <tr>\n",
       "      <th>0</th>\n",
       "      <td>-0.224007</td>\n",
       "      <td>0.063465</td>\n",
       "    </tr>\n",
       "    <tr>\n",
       "      <th>1</th>\n",
       "      <td>-0.259437</td>\n",
       "      <td>-0.020114</td>\n",
       "    </tr>\n",
       "    <tr>\n",
       "      <th>2</th>\n",
       "      <td>-0.183849</td>\n",
       "      <td>0.124408</td>\n",
       "    </tr>\n",
       "    <tr>\n",
       "      <th>3</th>\n",
       "      <td>-0.252082</td>\n",
       "      <td>0.015863</td>\n",
       "    </tr>\n",
       "    <tr>\n",
       "      <th>4</th>\n",
       "      <td>-0.035361</td>\n",
       "      <td>0.319620</td>\n",
       "    </tr>\n",
       "    <tr>\n",
       "      <th>5</th>\n",
       "      <td>-0.283495</td>\n",
       "      <td>0.104644</td>\n",
       "    </tr>\n",
       "    <tr>\n",
       "      <th>6</th>\n",
       "      <td>-0.150477</td>\n",
       "      <td>0.000115</td>\n",
       "    </tr>\n",
       "    <tr>\n",
       "      <th>7</th>\n",
       "      <td>-0.163782</td>\n",
       "      <td>-0.039659</td>\n",
       "    </tr>\n",
       "    <tr>\n",
       "      <th>8</th>\n",
       "      <td>-0.179427</td>\n",
       "      <td>0.055539</td>\n",
       "    </tr>\n",
       "    <tr>\n",
       "      <th>9</th>\n",
       "      <td>-0.210037</td>\n",
       "      <td>-0.016214</td>\n",
       "    </tr>\n",
       "    <tr>\n",
       "      <th>10</th>\n",
       "      <td>-0.273722</td>\n",
       "      <td>-0.037890</td>\n",
       "    </tr>\n",
       "    <tr>\n",
       "      <th>11</th>\n",
       "      <td>0.020806</td>\n",
       "      <td>0.104399</td>\n",
       "    </tr>\n",
       "    <tr>\n",
       "      <th>12</th>\n",
       "      <td>-0.083080</td>\n",
       "      <td>0.188392</td>\n",
       "    </tr>\n",
       "    <tr>\n",
       "      <th>13</th>\n",
       "      <td>0.036019</td>\n",
       "      <td>0.289096</td>\n",
       "    </tr>\n",
       "    <tr>\n",
       "      <th>14</th>\n",
       "      <td>-0.017656</td>\n",
       "      <td>0.018971</td>\n",
       "    </tr>\n",
       "    <tr>\n",
       "      <th>15</th>\n",
       "      <td>-0.390298</td>\n",
       "      <td>0.043239</td>\n",
       "    </tr>\n",
       "  </tbody>\n",
       "</table>\n",
       "</div>"
      ],
      "text/plain": [
       "           0         1\n",
       "0  -0.224007  0.063465\n",
       "1  -0.259437 -0.020114\n",
       "2  -0.183849  0.124408\n",
       "3  -0.252082  0.015863\n",
       "4  -0.035361  0.319620\n",
       "5  -0.283495  0.104644\n",
       "6  -0.150477  0.000115\n",
       "7  -0.163782 -0.039659\n",
       "8  -0.179427  0.055539\n",
       "9  -0.210037 -0.016214\n",
       "10 -0.273722 -0.037890\n",
       "11  0.020806  0.104399\n",
       "12 -0.083080  0.188392\n",
       "13  0.036019  0.289096\n",
       "14 -0.017656  0.018971\n",
       "15 -0.390298  0.043239"
      ]
     },
     "execution_count": 40,
     "metadata": {},
     "output_type": "execute_result"
    }
   ],
   "source": [
    "enen =ene.to_numpy()\n",
    "type(enen)\n",
    "error = trains_labels - enen\n",
    "error"
   ]
  },
  {
   "cell_type": "code",
   "execution_count": 41,
   "id": "4001dd76",
   "metadata": {},
   "outputs": [],
   "source": [
    "df = pd.DataFrame(error)\n",
    "df.to_csv('yy.csv', header=False, index=False)"
   ]
  },
  {
   "cell_type": "code",
   "execution_count": 42,
   "id": "3de32aeb",
   "metadata": {},
   "outputs": [
    {
     "data": {
      "text/plain": [
       "0.029070380751911186"
      ]
     },
     "execution_count": 42,
     "metadata": {},
     "output_type": "execute_result"
    }
   ],
   "source": [
    "import math\n",
    "from sklearn.metrics import mean_squared_error\n",
    "mse_true  = mean_squared_error(trains_labels, enen)\n",
    "mse_true"
   ]
  },
  {
   "cell_type": "code",
   "execution_count": 43,
   "id": "2f7cf7b5",
   "metadata": {},
   "outputs": [
    {
     "data": {
      "text/plain": [
       "0.17050038343625853"
      ]
     },
     "execution_count": 43,
     "metadata": {},
     "output_type": "execute_result"
    }
   ],
   "source": [
    "\n",
    "rmse = math.sqrt(mse_true)\n",
    "rmse"
   ]
  },
  {
   "cell_type": "markdown",
   "id": "8fa79bfe",
   "metadata": {},
   "source": [
    "# aggregating the parameters"
   ]
  },
  {
   "cell_type": "code",
   "execution_count": 44,
   "id": "c7c0bc77",
   "metadata": {},
   "outputs": [
    {
     "data": {
      "text/plain": [
       "array([[1.00024995e+00],\n",
       "       [2.59682955e-04],\n",
       "       [2.77487657e+05],\n",
       "       [1.00001880e+07]])"
      ]
     },
     "execution_count": 44,
     "metadata": {},
     "output_type": "execute_result"
    }
   ],
   "source": [
    "x_mean = np.mean( np.array([ x1, x2,x3 ]), axis=0 )\n",
    "x_mean"
   ]
  },
  {
   "cell_type": "code",
   "execution_count": 45,
   "id": "201aa15c",
   "metadata": {},
   "outputs": [],
   "source": [
    "a =x_mean[0]\n",
    "b = x_mean[1]\n",
    "c=x_mean[2]\n",
    "d = x_mean[3]"
   ]
  },
  {
   "cell_type": "markdown",
   "id": "e823f66d",
   "metadata": {},
   "source": [
    "# evaluating on training data"
   ]
  },
  {
   "cell_type": "code",
   "execution_count": 46,
   "id": "85735622",
   "metadata": {},
   "outputs": [
    {
     "name": "stdout",
     "output_type": "stream",
     "text": [
      "(48, 2)\n",
      "(48, 2)\n"
     ]
    }
   ],
   "source": [
    "\n",
    "trains = pd.read_csv('data/train_Cass.csv',delimiter=',', header=None) #loading inputs from a different file \n",
    "print (trains.shape)\n",
    "trains_labels = pd.read_csv('data/train_UTM.csv',delimiter=',', header=None) # loading targets\n",
    "print (trains_labels.shape)"
   ]
  },
  {
   "cell_type": "code",
   "execution_count": 47,
   "id": "c70bd2e8",
   "metadata": {},
   "outputs": [],
   "source": [
    "t = trains.to_numpy()\n",
    "t1 = t[:,0]*a\n",
    "\n",
    "t2 = t[:,1]*b\n",
    "\n",
    "t3 =  t[:,0]*b\n",
    "\n",
    "t4 =  t[:,1]*a"
   ]
  },
  {
   "cell_type": "code",
   "execution_count": 48,
   "id": "769cb5a7",
   "metadata": {},
   "outputs": [
    {
     "name": "stdout",
     "output_type": "stream",
     "text": [
      "[262058.45214538 266952.21807196 263425.56783929 261270.46198157\n",
      " 266422.3647248  267140.92806788 267293.25133865 265739.32721691\n",
      " 265088.86277206 265445.92702321 263168.22448825 267273.36974752\n",
      " 262157.39298456 261519.6826928  262644.03644323 263424.65488817\n",
      " 265097.11146112 265265.78496243 265121.59689514 267215.09429959\n",
      " 262776.35310409 263194.33365734 265499.60370658 261817.80953657\n",
      " 263194.17257395 264982.19792277 265569.08382688 263251.32820305\n",
      " 265435.764876   263531.526175   264017.19724953 262166.34888033\n",
      " 263546.91894747 266734.19853494 263661.48722607 265163.5545147\n",
      " 261840.34891504 263217.13289892 267171.49655877 267522.10484781\n",
      " 264894.35070137 266845.02554756 267354.92435855 265069.95163692\n",
      " 263008.52758094 262720.46032339 267073.99447451 263333.85473954]\n",
      "[9940059.49479442 9936008.80811675 9941625.32805405 9934567.61613264\n",
      " 9933929.65874773 9943791.61489152 9943294.4623241  9941300.4124249\n",
      " 9934062.20808381 9933383.6463543  9939149.02622751 9934501.12622723\n",
      " 9939322.11640692 9937093.73262211 9944958.64156764 9944789.54647427\n",
      " 9944095.80804559 9936518.55012783 9941732.23114423 9942304.08217243\n",
      " 9942960.79166777 9940512.89670399 9944468.59321147 9938077.8589445\n",
      " 9940076.46637631 9944587.48255358 9938718.8899455  9942928.20176321\n",
      " 9935535.06362396 9936992.0909171  9936509.71992582 9941229.79011497\n",
      " 9938884.4005356  9934609.4916896  9939840.03425305 9937948.75883462\n",
      " 9944501.88080052 9935836.77238317 9938195.650593   9939015.15739042\n",
      " 9939468.16145697 9937058.19466902 9935557.14710766 9943021.02091286\n",
      " 9942917.46806064 9944287.11059437 9941141.7659883  9935073.51462223]\n"
     ]
    }
   ],
   "source": [
    "east = c+ t1-t2\n",
    "\n",
    "print (east)\n",
    "north= d +t3+t4\n",
    "\n",
    "print (north)"
   ]
  },
  {
   "cell_type": "code",
   "execution_count": 49,
   "id": "f8d2677e",
   "metadata": {},
   "outputs": [
    {
     "data": {
      "text/plain": [
       "(48, 1)"
      ]
     },
     "execution_count": 49,
     "metadata": {},
     "output_type": "execute_result"
    }
   ],
   "source": [
    "ene1 = pd.DataFrame(east)\n",
    "ene1.shape\n",
    "#type(ene1)\n",
    "ene2 = pd.DataFrame(north)\n",
    "ene2.shape"
   ]
  },
  {
   "cell_type": "code",
   "execution_count": 50,
   "id": "ca23ee54",
   "metadata": {},
   "outputs": [
    {
     "name": "stdout",
     "output_type": "stream",
     "text": [
      "(48, 2)\n"
     ]
    }
   ],
   "source": [
    "m =ene1.join(ene2, on= None, how ='right', lsuffix = '_left', rsuffix = '_right')\n",
    "m.to_csv('y.csv', header=False, index=False)\n",
    "ene = pd.read_csv('y.csv',delimiter=',', header=None, ) # loading targets\n",
    "print(ene.shape)"
   ]
  },
  {
   "cell_type": "code",
   "execution_count": 51,
   "id": "34d4cca8",
   "metadata": {},
   "outputs": [
    {
     "data": {
      "text/html": [
       "<div>\n",
       "<style scoped>\n",
       "    .dataframe tbody tr th:only-of-type {\n",
       "        vertical-align: middle;\n",
       "    }\n",
       "\n",
       "    .dataframe tbody tr th {\n",
       "        vertical-align: top;\n",
       "    }\n",
       "\n",
       "    .dataframe thead th {\n",
       "        text-align: right;\n",
       "    }\n",
       "</style>\n",
       "<table border=\"1\" class=\"dataframe\">\n",
       "  <thead>\n",
       "    <tr style=\"text-align: right;\">\n",
       "      <th></th>\n",
       "      <th>0</th>\n",
       "      <th>1</th>\n",
       "    </tr>\n",
       "  </thead>\n",
       "  <tbody>\n",
       "    <tr>\n",
       "      <th>0</th>\n",
       "      <td>-0.152145</td>\n",
       "      <td>-0.194794</td>\n",
       "    </tr>\n",
       "    <tr>\n",
       "      <th>1</th>\n",
       "      <td>0.281928</td>\n",
       "      <td>0.291883</td>\n",
       "    </tr>\n",
       "    <tr>\n",
       "      <th>2</th>\n",
       "      <td>-0.267839</td>\n",
       "      <td>-0.028054</td>\n",
       "    </tr>\n",
       "    <tr>\n",
       "      <th>3</th>\n",
       "      <td>0.238018</td>\n",
       "      <td>-0.316133</td>\n",
       "    </tr>\n",
       "    <tr>\n",
       "      <th>4</th>\n",
       "      <td>0.435275</td>\n",
       "      <td>0.241252</td>\n",
       "    </tr>\n",
       "    <tr>\n",
       "      <th>5</th>\n",
       "      <td>-0.228068</td>\n",
       "      <td>0.185108</td>\n",
       "    </tr>\n",
       "    <tr>\n",
       "      <th>6</th>\n",
       "      <td>-0.251339</td>\n",
       "      <td>0.137676</td>\n",
       "    </tr>\n",
       "    <tr>\n",
       "      <th>7</th>\n",
       "      <td>-0.127217</td>\n",
       "      <td>0.087575</td>\n",
       "    </tr>\n",
       "    <tr>\n",
       "      <th>8</th>\n",
       "      <td>0.437228</td>\n",
       "      <td>0.091916</td>\n",
       "    </tr>\n",
       "    <tr>\n",
       "      <th>9</th>\n",
       "      <td>0.472977</td>\n",
       "      <td>0.153646</td>\n",
       "    </tr>\n",
       "    <tr>\n",
       "      <th>10</th>\n",
       "      <td>-0.024488</td>\n",
       "      <td>-0.026228</td>\n",
       "    </tr>\n",
       "    <tr>\n",
       "      <th>11</th>\n",
       "      <td>0.430252</td>\n",
       "      <td>0.273773</td>\n",
       "    </tr>\n",
       "    <tr>\n",
       "      <th>12</th>\n",
       "      <td>-0.092985</td>\n",
       "      <td>-0.116407</td>\n",
       "    </tr>\n",
       "    <tr>\n",
       "      <th>13</th>\n",
       "      <td>0.017307</td>\n",
       "      <td>-0.232622</td>\n",
       "    </tr>\n",
       "    <tr>\n",
       "      <th>14</th>\n",
       "      <td>-0.436443</td>\n",
       "      <td>-0.041568</td>\n",
       "    </tr>\n",
       "    <tr>\n",
       "      <th>15</th>\n",
       "      <td>-0.354888</td>\n",
       "      <td>-0.046474</td>\n",
       "    </tr>\n",
       "    <tr>\n",
       "      <th>16</th>\n",
       "      <td>-0.311461</td>\n",
       "      <td>0.091954</td>\n",
       "    </tr>\n",
       "    <tr>\n",
       "      <th>17</th>\n",
       "      <td>0.215038</td>\n",
       "      <td>0.049872</td>\n",
       "    </tr>\n",
       "    <tr>\n",
       "      <th>18</th>\n",
       "      <td>-0.196895</td>\n",
       "      <td>0.068856</td>\n",
       "    </tr>\n",
       "    <tr>\n",
       "      <th>19</th>\n",
       "      <td>-0.194300</td>\n",
       "      <td>0.117828</td>\n",
       "    </tr>\n",
       "    <tr>\n",
       "      <th>20</th>\n",
       "      <td>-0.353104</td>\n",
       "      <td>-0.091668</td>\n",
       "    </tr>\n",
       "    <tr>\n",
       "      <th>21</th>\n",
       "      <td>-0.133657</td>\n",
       "      <td>-0.096704</td>\n",
       "    </tr>\n",
       "    <tr>\n",
       "      <th>22</th>\n",
       "      <td>-0.303707</td>\n",
       "      <td>0.006789</td>\n",
       "    </tr>\n",
       "    <tr>\n",
       "      <th>23</th>\n",
       "      <td>-0.009537</td>\n",
       "      <td>-0.158944</td>\n",
       "    </tr>\n",
       "    <tr>\n",
       "      <th>24</th>\n",
       "      <td>-0.172574</td>\n",
       "      <td>-0.066376</td>\n",
       "    </tr>\n",
       "    <tr>\n",
       "      <th>25</th>\n",
       "      <td>-0.397923</td>\n",
       "      <td>0.017446</td>\n",
       "    </tr>\n",
       "    <tr>\n",
       "      <th>26</th>\n",
       "      <td>0.016173</td>\n",
       "      <td>0.110055</td>\n",
       "    </tr>\n",
       "    <tr>\n",
       "      <th>27</th>\n",
       "      <td>-0.328203</td>\n",
       "      <td>-0.001763</td>\n",
       "    </tr>\n",
       "    <tr>\n",
       "      <th>28</th>\n",
       "      <td>0.335124</td>\n",
       "      <td>0.136376</td>\n",
       "    </tr>\n",
       "    <tr>\n",
       "      <th>29</th>\n",
       "      <td>0.073825</td>\n",
       "      <td>-0.090917</td>\n",
       "    </tr>\n",
       "    <tr>\n",
       "      <th>30</th>\n",
       "      <td>0.202750</td>\n",
       "      <td>-0.019926</td>\n",
       "    </tr>\n",
       "    <tr>\n",
       "      <th>31</th>\n",
       "      <td>-0.248880</td>\n",
       "      <td>-0.090115</td>\n",
       "    </tr>\n",
       "    <tr>\n",
       "      <th>32</th>\n",
       "      <td>-0.018947</td>\n",
       "      <td>-0.100536</td>\n",
       "    </tr>\n",
       "    <tr>\n",
       "      <th>33</th>\n",
       "      <td>0.401465</td>\n",
       "      <td>0.208310</td>\n",
       "    </tr>\n",
       "    <tr>\n",
       "      <th>34</th>\n",
       "      <td>-0.087226</td>\n",
       "      <td>-0.034253</td>\n",
       "    </tr>\n",
       "    <tr>\n",
       "      <th>35</th>\n",
       "      <td>0.045485</td>\n",
       "      <td>0.041165</td>\n",
       "    </tr>\n",
       "    <tr>\n",
       "      <th>36</th>\n",
       "      <td>-0.448915</td>\n",
       "      <td>-0.080801</td>\n",
       "    </tr>\n",
       "    <tr>\n",
       "      <th>37</th>\n",
       "      <td>0.267101</td>\n",
       "      <td>-0.072383</td>\n",
       "    </tr>\n",
       "    <tr>\n",
       "      <th>38</th>\n",
       "      <td>0.103441</td>\n",
       "      <td>0.249407</td>\n",
       "    </tr>\n",
       "    <tr>\n",
       "      <th>39</th>\n",
       "      <td>-0.004848</td>\n",
       "      <td>0.242610</td>\n",
       "    </tr>\n",
       "    <tr>\n",
       "      <th>40</th>\n",
       "      <td>-0.050701</td>\n",
       "      <td>0.038543</td>\n",
       "    </tr>\n",
       "    <tr>\n",
       "      <th>41</th>\n",
       "      <td>0.174452</td>\n",
       "      <td>0.205331</td>\n",
       "    </tr>\n",
       "    <tr>\n",
       "      <th>42</th>\n",
       "      <td>0.275641</td>\n",
       "      <td>0.252892</td>\n",
       "    </tr>\n",
       "    <tr>\n",
       "      <th>43</th>\n",
       "      <td>-0.251637</td>\n",
       "      <td>0.079087</td>\n",
       "    </tr>\n",
       "    <tr>\n",
       "      <th>44</th>\n",
       "      <td>-0.327581</td>\n",
       "      <td>-0.068061</td>\n",
       "    </tr>\n",
       "    <tr>\n",
       "      <th>45</th>\n",
       "      <td>-0.360323</td>\n",
       "      <td>-0.010594</td>\n",
       "    </tr>\n",
       "    <tr>\n",
       "      <th>46</th>\n",
       "      <td>-0.094475</td>\n",
       "      <td>0.234012</td>\n",
       "    </tr>\n",
       "    <tr>\n",
       "      <th>47</th>\n",
       "      <td>0.245260</td>\n",
       "      <td>-0.114622</td>\n",
       "    </tr>\n",
       "  </tbody>\n",
       "</table>\n",
       "</div>"
      ],
      "text/plain": [
       "           0         1\n",
       "0  -0.152145 -0.194794\n",
       "1   0.281928  0.291883\n",
       "2  -0.267839 -0.028054\n",
       "3   0.238018 -0.316133\n",
       "4   0.435275  0.241252\n",
       "5  -0.228068  0.185108\n",
       "6  -0.251339  0.137676\n",
       "7  -0.127217  0.087575\n",
       "8   0.437228  0.091916\n",
       "9   0.472977  0.153646\n",
       "10 -0.024488 -0.026228\n",
       "11  0.430252  0.273773\n",
       "12 -0.092985 -0.116407\n",
       "13  0.017307 -0.232622\n",
       "14 -0.436443 -0.041568\n",
       "15 -0.354888 -0.046474\n",
       "16 -0.311461  0.091954\n",
       "17  0.215038  0.049872\n",
       "18 -0.196895  0.068856\n",
       "19 -0.194300  0.117828\n",
       "20 -0.353104 -0.091668\n",
       "21 -0.133657 -0.096704\n",
       "22 -0.303707  0.006789\n",
       "23 -0.009537 -0.158944\n",
       "24 -0.172574 -0.066376\n",
       "25 -0.397923  0.017446\n",
       "26  0.016173  0.110055\n",
       "27 -0.328203 -0.001763\n",
       "28  0.335124  0.136376\n",
       "29  0.073825 -0.090917\n",
       "30  0.202750 -0.019926\n",
       "31 -0.248880 -0.090115\n",
       "32 -0.018947 -0.100536\n",
       "33  0.401465  0.208310\n",
       "34 -0.087226 -0.034253\n",
       "35  0.045485  0.041165\n",
       "36 -0.448915 -0.080801\n",
       "37  0.267101 -0.072383\n",
       "38  0.103441  0.249407\n",
       "39 -0.004848  0.242610\n",
       "40 -0.050701  0.038543\n",
       "41  0.174452  0.205331\n",
       "42  0.275641  0.252892\n",
       "43 -0.251637  0.079087\n",
       "44 -0.327581 -0.068061\n",
       "45 -0.360323 -0.010594\n",
       "46 -0.094475  0.234012\n",
       "47  0.245260 -0.114622"
      ]
     },
     "execution_count": 51,
     "metadata": {},
     "output_type": "execute_result"
    }
   ],
   "source": [
    "enen =ene.to_numpy()\n",
    "type(enen)\n",
    "error = trains_labels - enen\n",
    "error"
   ]
  },
  {
   "cell_type": "code",
   "execution_count": 52,
   "id": "4e318eb6",
   "metadata": {},
   "outputs": [
    {
     "data": {
      "text/plain": [
       "0.045890086485201764"
      ]
     },
     "execution_count": 52,
     "metadata": {},
     "output_type": "execute_result"
    }
   ],
   "source": [
    "import math\n",
    "from sklearn.metrics import mean_squared_error\n",
    "mse_true  = mean_squared_error(trains_labels, enen)\n",
    "mse_true"
   ]
  },
  {
   "cell_type": "code",
   "execution_count": 53,
   "id": "44012172",
   "metadata": {},
   "outputs": [
    {
     "data": {
      "text/plain": [
       "0.21421971544468488"
      ]
     },
     "execution_count": 53,
     "metadata": {},
     "output_type": "execute_result"
    }
   ],
   "source": [
    "rmse = math.sqrt(mse_true)\n",
    "rmse"
   ]
  },
  {
   "cell_type": "code",
   "execution_count": 54,
   "id": "984a173b",
   "metadata": {},
   "outputs": [],
   "source": [
    "error.to_csv('yy.csv', header=False, index=False)"
   ]
  },
  {
   "cell_type": "code",
   "execution_count": null,
   "id": "bd5a18ba",
   "metadata": {},
   "outputs": [],
   "source": []
  },
  {
   "cell_type": "markdown",
   "id": "2b0e95bb",
   "metadata": {},
   "source": [
    "# test data"
   ]
  },
  {
   "cell_type": "code",
   "execution_count": 55,
   "id": "1eb33176",
   "metadata": {},
   "outputs": [],
   "source": [
    "t = test.to_numpy()\n",
    "t1 = t[:,0]*a\n",
    "\n",
    "t2 = t[:,1]*b\n",
    "\n",
    "t3 =  t[:,0]*b\n",
    "\n",
    "t4 =  t[:,1]*a"
   ]
  },
  {
   "cell_type": "code",
   "execution_count": 56,
   "id": "e9ba6762",
   "metadata": {},
   "outputs": [
    {
     "name": "stdout",
     "output_type": "stream",
     "text": [
      "[265479.63268674 265466.45009226 266757.44064509 265147.81910767\n",
      " 262902.20444667 262235.55780287 265321.67263378 267280.33123777\n",
      " 263065.96946917 266734.19853494 263661.48722607 261383.54424095\n",
      " 267369.98661286 262405.28431505 265252.18410378 264410.06858907\n",
      " 263466.5221532 ]\n",
      "[9937546.34332985 9934421.66369382 9933159.68942373 9943952.43793152\n",
      " 9941909.88557865 9934763.20087278 9939909.21485114 9940098.16733592\n",
      " 9933393.05890143 9934609.4916896  9939840.03425305 9935610.35259574\n",
      " 9933555.51678913 9944620.10602172 9940994.00731932 9944112.55030616\n",
      " 9933486.11964671]\n"
     ]
    }
   ],
   "source": [
    "east = c+ t1-t2\n",
    "\n",
    "print (east)\n",
    "north= d +t3+t4\n",
    "\n",
    "print (north)"
   ]
  },
  {
   "cell_type": "code",
   "execution_count": 57,
   "id": "1182f933",
   "metadata": {},
   "outputs": [
    {
     "data": {
      "text/plain": [
       "(17, 1)"
      ]
     },
     "execution_count": 57,
     "metadata": {},
     "output_type": "execute_result"
    }
   ],
   "source": [
    "ene1 = pd.DataFrame(east)\n",
    "ene1.shape\n",
    "#type(ene1)\n",
    "ene2 = pd.DataFrame(north)\n",
    "ene2.shape"
   ]
  },
  {
   "cell_type": "code",
   "execution_count": 58,
   "id": "b417de21",
   "metadata": {},
   "outputs": [
    {
     "name": "stdout",
     "output_type": "stream",
     "text": [
      "(17, 2)\n"
     ]
    }
   ],
   "source": [
    "m =ene1.join(ene2, on= None, how ='right', lsuffix = '_left', rsuffix = '_right')\n",
    "m.to_csv('y.csv', header=False, index=False)\n",
    "ene = pd.read_csv('y.csv',delimiter=',', header=None, ) # loading targets\n",
    "print(ene.shape)"
   ]
  },
  {
   "cell_type": "code",
   "execution_count": 59,
   "id": "833c390c",
   "metadata": {},
   "outputs": [
    {
     "data": {
      "text/html": [
       "<div>\n",
       "<style scoped>\n",
       "    .dataframe tbody tr th:only-of-type {\n",
       "        vertical-align: middle;\n",
       "    }\n",
       "\n",
       "    .dataframe tbody tr th {\n",
       "        vertical-align: top;\n",
       "    }\n",
       "\n",
       "    .dataframe thead th {\n",
       "        text-align: right;\n",
       "    }\n",
       "</style>\n",
       "<table border=\"1\" class=\"dataframe\">\n",
       "  <thead>\n",
       "    <tr style=\"text-align: right;\">\n",
       "      <th></th>\n",
       "      <th>0</th>\n",
       "      <th>1</th>\n",
       "    </tr>\n",
       "  </thead>\n",
       "  <tbody>\n",
       "    <tr>\n",
       "      <th>0</th>\n",
       "      <td>0.067313</td>\n",
       "      <td>0.156670</td>\n",
       "    </tr>\n",
       "    <tr>\n",
       "      <th>1</th>\n",
       "      <td>0.349908</td>\n",
       "      <td>0.136306</td>\n",
       "    </tr>\n",
       "    <tr>\n",
       "      <th>2</th>\n",
       "      <td>0.559355</td>\n",
       "      <td>0.310576</td>\n",
       "    </tr>\n",
       "    <tr>\n",
       "      <th>3</th>\n",
       "      <td>-0.319108</td>\n",
       "      <td>0.062068</td>\n",
       "    </tr>\n",
       "    <tr>\n",
       "      <th>4</th>\n",
       "      <td>-0.304447</td>\n",
       "      <td>-0.085579</td>\n",
       "    </tr>\n",
       "    <tr>\n",
       "      <th>5</th>\n",
       "      <td>0.342197</td>\n",
       "      <td>-0.200873</td>\n",
       "    </tr>\n",
       "    <tr>\n",
       "      <th>6</th>\n",
       "      <td>-0.072634</td>\n",
       "      <td>0.085149</td>\n",
       "    </tr>\n",
       "    <tr>\n",
       "      <th>7</th>\n",
       "      <td>-0.031238</td>\n",
       "      <td>0.232664</td>\n",
       "    </tr>\n",
       "    <tr>\n",
       "      <th>8</th>\n",
       "      <td>0.430531</td>\n",
       "      <td>-0.158901</td>\n",
       "    </tr>\n",
       "    <tr>\n",
       "      <th>9</th>\n",
       "      <td>0.401465</td>\n",
       "      <td>0.208310</td>\n",
       "    </tr>\n",
       "    <tr>\n",
       "      <th>10</th>\n",
       "      <td>-0.087226</td>\n",
       "      <td>-0.034253</td>\n",
       "    </tr>\n",
       "    <tr>\n",
       "      <th>11</th>\n",
       "      <td>0.155759</td>\n",
       "      <td>-0.252596</td>\n",
       "    </tr>\n",
       "    <tr>\n",
       "      <th>12</th>\n",
       "      <td>0.513387</td>\n",
       "      <td>0.383211</td>\n",
       "    </tr>\n",
       "    <tr>\n",
       "      <th>13</th>\n",
       "      <td>-0.384315</td>\n",
       "      <td>-0.106022</td>\n",
       "    </tr>\n",
       "    <tr>\n",
       "      <th>14</th>\n",
       "      <td>-0.184104</td>\n",
       "      <td>0.092681</td>\n",
       "    </tr>\n",
       "    <tr>\n",
       "      <th>15</th>\n",
       "      <td>-0.368589</td>\n",
       "      <td>0.049694</td>\n",
       "    </tr>\n",
       "    <tr>\n",
       "      <th>16</th>\n",
       "      <td>0.477847</td>\n",
       "      <td>-0.119647</td>\n",
       "    </tr>\n",
       "  </tbody>\n",
       "</table>\n",
       "</div>"
      ],
      "text/plain": [
       "           0         1\n",
       "0   0.067313  0.156670\n",
       "1   0.349908  0.136306\n",
       "2   0.559355  0.310576\n",
       "3  -0.319108  0.062068\n",
       "4  -0.304447 -0.085579\n",
       "5   0.342197 -0.200873\n",
       "6  -0.072634  0.085149\n",
       "7  -0.031238  0.232664\n",
       "8   0.430531 -0.158901\n",
       "9   0.401465  0.208310\n",
       "10 -0.087226 -0.034253\n",
       "11  0.155759 -0.252596\n",
       "12  0.513387  0.383211\n",
       "13 -0.384315 -0.106022\n",
       "14 -0.184104  0.092681\n",
       "15 -0.368589  0.049694\n",
       "16  0.477847 -0.119647"
      ]
     },
     "execution_count": 59,
     "metadata": {},
     "output_type": "execute_result"
    }
   ],
   "source": [
    "enen =ene.to_numpy()\n",
    "type(enen)\n",
    "error = labels - enen\n",
    "error"
   ]
  },
  {
   "cell_type": "code",
   "execution_count": 60,
   "id": "22322be4",
   "metadata": {},
   "outputs": [
    {
     "data": {
      "text/plain": [
       "0.07397189854958529"
      ]
     },
     "execution_count": 60,
     "metadata": {},
     "output_type": "execute_result"
    }
   ],
   "source": [
    "import math\n",
    "from sklearn.metrics import mean_squared_error\n",
    "mse_true  = mean_squared_error(labels, enen)\n",
    "mse_true"
   ]
  },
  {
   "cell_type": "code",
   "execution_count": 61,
   "id": "60007887",
   "metadata": {},
   "outputs": [
    {
     "data": {
      "text/plain": [
       "0.2719777537770052"
      ]
     },
     "execution_count": 61,
     "metadata": {},
     "output_type": "execute_result"
    }
   ],
   "source": [
    "\n",
    "rmse = math.sqrt(mse_true)\n",
    "rmse"
   ]
  },
  {
   "cell_type": "code",
   "execution_count": 62,
   "id": "ddcac8e3",
   "metadata": {},
   "outputs": [],
   "source": [
    "error.to_csv('yy.csv', header=False, index=False)"
   ]
  },
  {
   "cell_type": "code",
   "execution_count": 68,
   "id": "11cfd8b7",
   "metadata": {},
   "outputs": [],
   "source": [
    "df = pd.DataFrame(x_mean)\n",
    "df.to_csv('parameter.csv', header=False, index=False)"
   ]
  },
  {
   "cell_type": "code",
   "execution_count": null,
   "id": "26ae257e",
   "metadata": {},
   "outputs": [],
   "source": []
  }
 ],
 "metadata": {
  "kernelspec": {
   "display_name": "Python 3",
   "language": "python",
   "name": "python3"
  },
  "language_info": {
   "codemirror_mode": {
    "name": "ipython",
    "version": 3
   },
   "file_extension": ".py",
   "mimetype": "text/x-python",
   "name": "python",
   "nbconvert_exporter": "python",
   "pygments_lexer": "ipython3",
   "version": "3.8.8"
  }
 },
 "nbformat": 4,
 "nbformat_minor": 5
}
